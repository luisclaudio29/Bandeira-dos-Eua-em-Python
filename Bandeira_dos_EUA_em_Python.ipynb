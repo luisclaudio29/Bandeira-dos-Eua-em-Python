{
  "nbformat": 4,
  "nbformat_minor": 0,
  "metadata": {
    "colab": {
      "provenance": [],
      "authorship_tag": "ABX9TyPZ/cDXsujC/rfu9w8u17lE",
      "include_colab_link": true
    },
    "kernelspec": {
      "name": "python3",
      "display_name": "Python 3"
    },
    "language_info": {
      "name": "python"
    }
  },
  "cells": [
    {
      "cell_type": "markdown",
      "metadata": {
        "id": "view-in-github",
        "colab_type": "text"
      },
      "source": [
        "<a href=\"https://colab.research.google.com/github/luisclaudio29/Bandeira-dos-Eua-em-Python/blob/main/Bandeira_dos_EUA_em_Python.ipynb\" target=\"_parent\"><img src=\"https://colab.research.google.com/assets/colab-badge.svg\" alt=\"Open In Colab\"/></a>"
      ]
    },
    {
      "cell_type": "code",
      "source": [
        "for i in range (4) :\n",
        "    print(\"**********---------\")\n",
        "\n",
        "\n",
        "for i in range (4) :\n",
        "    print(\"-------------------\")"
      ],
      "metadata": {
        "id": "gU29LipjPnXQ",
        "colab": {
          "base_uri": "https://localhost:8080/"
        },
        "outputId": "722a4231-5241-48f2-823f-48bd856662c8"
      },
      "execution_count": 1,
      "outputs": [
        {
          "output_type": "stream",
          "name": "stdout",
          "text": [
            "**********---------\n",
            "**********---------\n",
            "**********---------\n",
            "**********---------\n",
            "-------------------\n",
            "-------------------\n",
            "-------------------\n",
            "-------------------\n"
          ]
        }
      ]
    }
  ]
}